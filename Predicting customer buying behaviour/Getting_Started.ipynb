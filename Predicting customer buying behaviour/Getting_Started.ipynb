{
  "cells": [
    {
      "cell_type": "markdown",
      "metadata": {
        "id": "Pg_XiOQDlmLI"
      },
      "source": [
        "# Task 2\n",
        "\n",
        "---\n",
        "\n",
        "## Predictive modeling of customer bookings\n",
        "\n",
        "This Jupyter notebook includes some code to get you started with this predictive modeling task. We will use various packages for data manipulation, feature engineering and machine learning.\n",
        "\n",
        "### Exploratory data analysis\n",
        "\n",
        "First, we must explore the data in order to better understand what we have and the statistical properties of the dataset."
      ]
    },
    {
      "cell_type": "code",
      "execution_count": 1,
      "metadata": {
        "id": "C7gwWgnplmLL"
      },
      "outputs": [],
      "source": [
        "import pandas as pd\n",
        "import numpy as np\n",
        "import warnings\n",
        "warnings.filterwarnings(\"ignore\")"
      ]
    },
    {
      "cell_type": "code",
      "execution_count": 3,
      "metadata": {
        "colab": {
          "base_uri": "https://localhost:8080/",
          "height": 226
        },
        "id": "dHMVU8wUlmLM",
        "outputId": "54ac190d-9eb2-4a13-d783-42d335849c98"
      },
      "outputs": [
        {
          "output_type": "execute_result",
          "data": {
            "text/plain": [
              "   num_passengers sales_channel  trip_type  purchase_lead  length_of_stay  \\\n",
              "0               2      Internet  RoundTrip            262              19   \n",
              "1               1      Internet  RoundTrip            112              20   \n",
              "2               2      Internet  RoundTrip            243              22   \n",
              "3               1      Internet  RoundTrip             96              31   \n",
              "4               2      Internet  RoundTrip             68              22   \n",
              "\n",
              "   flight_hour flight_day   route booking_origin  wants_extra_baggage  \\\n",
              "0            7        Sat  AKLDEL    New Zealand                    1   \n",
              "1            3        Sat  AKLDEL    New Zealand                    0   \n",
              "2           17        Wed  AKLDEL          India                    1   \n",
              "3            4        Sat  AKLDEL    New Zealand                    0   \n",
              "4           15        Wed  AKLDEL          India                    1   \n",
              "\n",
              "   wants_preferred_seat  wants_in_flight_meals  flight_duration  \\\n",
              "0                     0                      0             5.52   \n",
              "1                     0                      0             5.52   \n",
              "2                     1                      0             5.52   \n",
              "3                     0                      1             5.52   \n",
              "4                     0                      1             5.52   \n",
              "\n",
              "   booking_complete  \n",
              "0                 0  \n",
              "1                 0  \n",
              "2                 0  \n",
              "3                 0  \n",
              "4                 0  "
            ],
            "text/html": [
              "\n",
              "  <div id=\"df-d7eff3fa-3c12-4c90-8e6b-51d966be2a9e\" class=\"colab-df-container\">\n",
              "    <div>\n",
              "<style scoped>\n",
              "    .dataframe tbody tr th:only-of-type {\n",
              "        vertical-align: middle;\n",
              "    }\n",
              "\n",
              "    .dataframe tbody tr th {\n",
              "        vertical-align: top;\n",
              "    }\n",
              "\n",
              "    .dataframe thead th {\n",
              "        text-align: right;\n",
              "    }\n",
              "</style>\n",
              "<table border=\"1\" class=\"dataframe\">\n",
              "  <thead>\n",
              "    <tr style=\"text-align: right;\">\n",
              "      <th></th>\n",
              "      <th>num_passengers</th>\n",
              "      <th>sales_channel</th>\n",
              "      <th>trip_type</th>\n",
              "      <th>purchase_lead</th>\n",
              "      <th>length_of_stay</th>\n",
              "      <th>flight_hour</th>\n",
              "      <th>flight_day</th>\n",
              "      <th>route</th>\n",
              "      <th>booking_origin</th>\n",
              "      <th>wants_extra_baggage</th>\n",
              "      <th>wants_preferred_seat</th>\n",
              "      <th>wants_in_flight_meals</th>\n",
              "      <th>flight_duration</th>\n",
              "      <th>booking_complete</th>\n",
              "    </tr>\n",
              "  </thead>\n",
              "  <tbody>\n",
              "    <tr>\n",
              "      <th>0</th>\n",
              "      <td>2</td>\n",
              "      <td>Internet</td>\n",
              "      <td>RoundTrip</td>\n",
              "      <td>262</td>\n",
              "      <td>19</td>\n",
              "      <td>7</td>\n",
              "      <td>Sat</td>\n",
              "      <td>AKLDEL</td>\n",
              "      <td>New Zealand</td>\n",
              "      <td>1</td>\n",
              "      <td>0</td>\n",
              "      <td>0</td>\n",
              "      <td>5.52</td>\n",
              "      <td>0</td>\n",
              "    </tr>\n",
              "    <tr>\n",
              "      <th>1</th>\n",
              "      <td>1</td>\n",
              "      <td>Internet</td>\n",
              "      <td>RoundTrip</td>\n",
              "      <td>112</td>\n",
              "      <td>20</td>\n",
              "      <td>3</td>\n",
              "      <td>Sat</td>\n",
              "      <td>AKLDEL</td>\n",
              "      <td>New Zealand</td>\n",
              "      <td>0</td>\n",
              "      <td>0</td>\n",
              "      <td>0</td>\n",
              "      <td>5.52</td>\n",
              "      <td>0</td>\n",
              "    </tr>\n",
              "    <tr>\n",
              "      <th>2</th>\n",
              "      <td>2</td>\n",
              "      <td>Internet</td>\n",
              "      <td>RoundTrip</td>\n",
              "      <td>243</td>\n",
              "      <td>22</td>\n",
              "      <td>17</td>\n",
              "      <td>Wed</td>\n",
              "      <td>AKLDEL</td>\n",
              "      <td>India</td>\n",
              "      <td>1</td>\n",
              "      <td>1</td>\n",
              "      <td>0</td>\n",
              "      <td>5.52</td>\n",
              "      <td>0</td>\n",
              "    </tr>\n",
              "    <tr>\n",
              "      <th>3</th>\n",
              "      <td>1</td>\n",
              "      <td>Internet</td>\n",
              "      <td>RoundTrip</td>\n",
              "      <td>96</td>\n",
              "      <td>31</td>\n",
              "      <td>4</td>\n",
              "      <td>Sat</td>\n",
              "      <td>AKLDEL</td>\n",
              "      <td>New Zealand</td>\n",
              "      <td>0</td>\n",
              "      <td>0</td>\n",
              "      <td>1</td>\n",
              "      <td>5.52</td>\n",
              "      <td>0</td>\n",
              "    </tr>\n",
              "    <tr>\n",
              "      <th>4</th>\n",
              "      <td>2</td>\n",
              "      <td>Internet</td>\n",
              "      <td>RoundTrip</td>\n",
              "      <td>68</td>\n",
              "      <td>22</td>\n",
              "      <td>15</td>\n",
              "      <td>Wed</td>\n",
              "      <td>AKLDEL</td>\n",
              "      <td>India</td>\n",
              "      <td>1</td>\n",
              "      <td>0</td>\n",
              "      <td>1</td>\n",
              "      <td>5.52</td>\n",
              "      <td>0</td>\n",
              "    </tr>\n",
              "  </tbody>\n",
              "</table>\n",
              "</div>\n",
              "    <div class=\"colab-df-buttons\">\n",
              "\n",
              "  <div class=\"colab-df-container\">\n",
              "    <button class=\"colab-df-convert\" onclick=\"convertToInteractive('df-d7eff3fa-3c12-4c90-8e6b-51d966be2a9e')\"\n",
              "            title=\"Convert this dataframe to an interactive table.\"\n",
              "            style=\"display:none;\">\n",
              "\n",
              "  <svg xmlns=\"http://www.w3.org/2000/svg\" height=\"24px\" viewBox=\"0 -960 960 960\">\n",
              "    <path d=\"M120-120v-720h720v720H120Zm60-500h600v-160H180v160Zm220 220h160v-160H400v160Zm0 220h160v-160H400v160ZM180-400h160v-160H180v160Zm440 0h160v-160H620v160ZM180-180h160v-160H180v160Zm440 0h160v-160H620v160Z\"/>\n",
              "  </svg>\n",
              "    </button>\n",
              "\n",
              "  <style>\n",
              "    .colab-df-container {\n",
              "      display:flex;\n",
              "      gap: 12px;\n",
              "    }\n",
              "\n",
              "    .colab-df-convert {\n",
              "      background-color: #E8F0FE;\n",
              "      border: none;\n",
              "      border-radius: 50%;\n",
              "      cursor: pointer;\n",
              "      display: none;\n",
              "      fill: #1967D2;\n",
              "      height: 32px;\n",
              "      padding: 0 0 0 0;\n",
              "      width: 32px;\n",
              "    }\n",
              "\n",
              "    .colab-df-convert:hover {\n",
              "      background-color: #E2EBFA;\n",
              "      box-shadow: 0px 1px 2px rgba(60, 64, 67, 0.3), 0px 1px 3px 1px rgba(60, 64, 67, 0.15);\n",
              "      fill: #174EA6;\n",
              "    }\n",
              "\n",
              "    .colab-df-buttons div {\n",
              "      margin-bottom: 4px;\n",
              "    }\n",
              "\n",
              "    [theme=dark] .colab-df-convert {\n",
              "      background-color: #3B4455;\n",
              "      fill: #D2E3FC;\n",
              "    }\n",
              "\n",
              "    [theme=dark] .colab-df-convert:hover {\n",
              "      background-color: #434B5C;\n",
              "      box-shadow: 0px 1px 3px 1px rgba(0, 0, 0, 0.15);\n",
              "      filter: drop-shadow(0px 1px 2px rgba(0, 0, 0, 0.3));\n",
              "      fill: #FFFFFF;\n",
              "    }\n",
              "  </style>\n",
              "\n",
              "    <script>\n",
              "      const buttonEl =\n",
              "        document.querySelector('#df-d7eff3fa-3c12-4c90-8e6b-51d966be2a9e button.colab-df-convert');\n",
              "      buttonEl.style.display =\n",
              "        google.colab.kernel.accessAllowed ? 'block' : 'none';\n",
              "\n",
              "      async function convertToInteractive(key) {\n",
              "        const element = document.querySelector('#df-d7eff3fa-3c12-4c90-8e6b-51d966be2a9e');\n",
              "        const dataTable =\n",
              "          await google.colab.kernel.invokeFunction('convertToInteractive',\n",
              "                                                    [key], {});\n",
              "        if (!dataTable) return;\n",
              "\n",
              "        const docLinkHtml = 'Like what you see? Visit the ' +\n",
              "          '<a target=\"_blank\" href=https://colab.research.google.com/notebooks/data_table.ipynb>data table notebook</a>'\n",
              "          + ' to learn more about interactive tables.';\n",
              "        element.innerHTML = '';\n",
              "        dataTable['output_type'] = 'display_data';\n",
              "        await google.colab.output.renderOutput(dataTable, element);\n",
              "        const docLink = document.createElement('div');\n",
              "        docLink.innerHTML = docLinkHtml;\n",
              "        element.appendChild(docLink);\n",
              "      }\n",
              "    </script>\n",
              "  </div>\n",
              "\n",
              "\n",
              "    <div id=\"df-0d07539f-0e2c-473a-8cb6-e16370375e30\">\n",
              "      <button class=\"colab-df-quickchart\" onclick=\"quickchart('df-0d07539f-0e2c-473a-8cb6-e16370375e30')\"\n",
              "                title=\"Suggest charts\"\n",
              "                style=\"display:none;\">\n",
              "\n",
              "<svg xmlns=\"http://www.w3.org/2000/svg\" height=\"24px\"viewBox=\"0 0 24 24\"\n",
              "     width=\"24px\">\n",
              "    <g>\n",
              "        <path d=\"M19 3H5c-1.1 0-2 .9-2 2v14c0 1.1.9 2 2 2h14c1.1 0 2-.9 2-2V5c0-1.1-.9-2-2-2zM9 17H7v-7h2v7zm4 0h-2V7h2v10zm4 0h-2v-4h2v4z\"/>\n",
              "    </g>\n",
              "</svg>\n",
              "      </button>\n",
              "\n",
              "<style>\n",
              "  .colab-df-quickchart {\n",
              "      --bg-color: #E8F0FE;\n",
              "      --fill-color: #1967D2;\n",
              "      --hover-bg-color: #E2EBFA;\n",
              "      --hover-fill-color: #174EA6;\n",
              "      --disabled-fill-color: #AAA;\n",
              "      --disabled-bg-color: #DDD;\n",
              "  }\n",
              "\n",
              "  [theme=dark] .colab-df-quickchart {\n",
              "      --bg-color: #3B4455;\n",
              "      --fill-color: #D2E3FC;\n",
              "      --hover-bg-color: #434B5C;\n",
              "      --hover-fill-color: #FFFFFF;\n",
              "      --disabled-bg-color: #3B4455;\n",
              "      --disabled-fill-color: #666;\n",
              "  }\n",
              "\n",
              "  .colab-df-quickchart {\n",
              "    background-color: var(--bg-color);\n",
              "    border: none;\n",
              "    border-radius: 50%;\n",
              "    cursor: pointer;\n",
              "    display: none;\n",
              "    fill: var(--fill-color);\n",
              "    height: 32px;\n",
              "    padding: 0;\n",
              "    width: 32px;\n",
              "  }\n",
              "\n",
              "  .colab-df-quickchart:hover {\n",
              "    background-color: var(--hover-bg-color);\n",
              "    box-shadow: 0 1px 2px rgba(60, 64, 67, 0.3), 0 1px 3px 1px rgba(60, 64, 67, 0.15);\n",
              "    fill: var(--button-hover-fill-color);\n",
              "  }\n",
              "\n",
              "  .colab-df-quickchart-complete:disabled,\n",
              "  .colab-df-quickchart-complete:disabled:hover {\n",
              "    background-color: var(--disabled-bg-color);\n",
              "    fill: var(--disabled-fill-color);\n",
              "    box-shadow: none;\n",
              "  }\n",
              "\n",
              "  .colab-df-spinner {\n",
              "    border: 2px solid var(--fill-color);\n",
              "    border-color: transparent;\n",
              "    border-bottom-color: var(--fill-color);\n",
              "    animation:\n",
              "      spin 1s steps(1) infinite;\n",
              "  }\n",
              "\n",
              "  @keyframes spin {\n",
              "    0% {\n",
              "      border-color: transparent;\n",
              "      border-bottom-color: var(--fill-color);\n",
              "      border-left-color: var(--fill-color);\n",
              "    }\n",
              "    20% {\n",
              "      border-color: transparent;\n",
              "      border-left-color: var(--fill-color);\n",
              "      border-top-color: var(--fill-color);\n",
              "    }\n",
              "    30% {\n",
              "      border-color: transparent;\n",
              "      border-left-color: var(--fill-color);\n",
              "      border-top-color: var(--fill-color);\n",
              "      border-right-color: var(--fill-color);\n",
              "    }\n",
              "    40% {\n",
              "      border-color: transparent;\n",
              "      border-right-color: var(--fill-color);\n",
              "      border-top-color: var(--fill-color);\n",
              "    }\n",
              "    60% {\n",
              "      border-color: transparent;\n",
              "      border-right-color: var(--fill-color);\n",
              "    }\n",
              "    80% {\n",
              "      border-color: transparent;\n",
              "      border-right-color: var(--fill-color);\n",
              "      border-bottom-color: var(--fill-color);\n",
              "    }\n",
              "    90% {\n",
              "      border-color: transparent;\n",
              "      border-bottom-color: var(--fill-color);\n",
              "    }\n",
              "  }\n",
              "</style>\n",
              "\n",
              "      <script>\n",
              "        async function quickchart(key) {\n",
              "          const quickchartButtonEl =\n",
              "            document.querySelector('#' + key + ' button');\n",
              "          quickchartButtonEl.disabled = true;  // To prevent multiple clicks.\n",
              "          quickchartButtonEl.classList.add('colab-df-spinner');\n",
              "          try {\n",
              "            const charts = await google.colab.kernel.invokeFunction(\n",
              "                'suggestCharts', [key], {});\n",
              "          } catch (error) {\n",
              "            console.error('Error during call to suggestCharts:', error);\n",
              "          }\n",
              "          quickchartButtonEl.classList.remove('colab-df-spinner');\n",
              "          quickchartButtonEl.classList.add('colab-df-quickchart-complete');\n",
              "        }\n",
              "        (() => {\n",
              "          let quickchartButtonEl =\n",
              "            document.querySelector('#df-0d07539f-0e2c-473a-8cb6-e16370375e30 button');\n",
              "          quickchartButtonEl.style.display =\n",
              "            google.colab.kernel.accessAllowed ? 'block' : 'none';\n",
              "        })();\n",
              "      </script>\n",
              "    </div>\n",
              "\n",
              "    </div>\n",
              "  </div>\n"
            ],
            "application/vnd.google.colaboratory.intrinsic+json": {
              "type": "dataframe",
              "variable_name": "df",
              "summary": "{\n  \"name\": \"df\",\n  \"rows\": 50000,\n  \"fields\": [\n    {\n      \"column\": \"num_passengers\",\n      \"properties\": {\n        \"dtype\": \"number\",\n        \"std\": 1,\n        \"min\": 1,\n        \"max\": 9,\n        \"num_unique_values\": 9,\n        \"samples\": [\n          9,\n          1,\n          5\n        ],\n        \"semantic_type\": \"\",\n        \"description\": \"\"\n      }\n    },\n    {\n      \"column\": \"sales_channel\",\n      \"properties\": {\n        \"dtype\": \"category\",\n        \"num_unique_values\": 2,\n        \"samples\": [\n          \"Mobile\",\n          \"Internet\"\n        ],\n        \"semantic_type\": \"\",\n        \"description\": \"\"\n      }\n    },\n    {\n      \"column\": \"trip_type\",\n      \"properties\": {\n        \"dtype\": \"category\",\n        \"num_unique_values\": 3,\n        \"samples\": [\n          \"RoundTrip\",\n          \"CircleTrip\"\n        ],\n        \"semantic_type\": \"\",\n        \"description\": \"\"\n      }\n    },\n    {\n      \"column\": \"purchase_lead\",\n      \"properties\": {\n        \"dtype\": \"number\",\n        \"std\": 90,\n        \"min\": 0,\n        \"max\": 867,\n        \"num_unique_values\": 470,\n        \"samples\": [\n          102,\n          63\n        ],\n        \"semantic_type\": \"\",\n        \"description\": \"\"\n      }\n    },\n    {\n      \"column\": \"length_of_stay\",\n      \"properties\": {\n        \"dtype\": \"number\",\n        \"std\": 33,\n        \"min\": 0,\n        \"max\": 778,\n        \"num_unique_values\": 335,\n        \"samples\": [\n          23,\n          184\n        ],\n        \"semantic_type\": \"\",\n        \"description\": \"\"\n      }\n    },\n    {\n      \"column\": \"flight_hour\",\n      \"properties\": {\n        \"dtype\": \"number\",\n        \"std\": 5,\n        \"min\": 0,\n        \"max\": 23,\n        \"num_unique_values\": 24,\n        \"samples\": [\n          12,\n          11\n        ],\n        \"semantic_type\": \"\",\n        \"description\": \"\"\n      }\n    },\n    {\n      \"column\": \"flight_day\",\n      \"properties\": {\n        \"dtype\": \"category\",\n        \"num_unique_values\": 7,\n        \"samples\": [\n          \"Sat\",\n          \"Wed\"\n        ],\n        \"semantic_type\": \"\",\n        \"description\": \"\"\n      }\n    },\n    {\n      \"column\": \"route\",\n      \"properties\": {\n        \"dtype\": \"category\",\n        \"num_unique_values\": 799,\n        \"samples\": [\n          \"SYDTPE\",\n          \"PUSSYD\"\n        ],\n        \"semantic_type\": \"\",\n        \"description\": \"\"\n      }\n    },\n    {\n      \"column\": \"booking_origin\",\n      \"properties\": {\n        \"dtype\": \"category\",\n        \"num_unique_values\": 104,\n        \"samples\": [\n          \"Croatia\",\n          \"Jordan\"\n        ],\n        \"semantic_type\": \"\",\n        \"description\": \"\"\n      }\n    },\n    {\n      \"column\": \"wants_extra_baggage\",\n      \"properties\": {\n        \"dtype\": \"number\",\n        \"std\": 0,\n        \"min\": 0,\n        \"max\": 1,\n        \"num_unique_values\": 2,\n        \"samples\": [\n          0,\n          1\n        ],\n        \"semantic_type\": \"\",\n        \"description\": \"\"\n      }\n    },\n    {\n      \"column\": \"wants_preferred_seat\",\n      \"properties\": {\n        \"dtype\": \"number\",\n        \"std\": 0,\n        \"min\": 0,\n        \"max\": 1,\n        \"num_unique_values\": 2,\n        \"samples\": [\n          1,\n          0\n        ],\n        \"semantic_type\": \"\",\n        \"description\": \"\"\n      }\n    },\n    {\n      \"column\": \"wants_in_flight_meals\",\n      \"properties\": {\n        \"dtype\": \"number\",\n        \"std\": 0,\n        \"min\": 0,\n        \"max\": 1,\n        \"num_unique_values\": 2,\n        \"samples\": [\n          1,\n          0\n        ],\n        \"semantic_type\": \"\",\n        \"description\": \"\"\n      }\n    },\n    {\n      \"column\": \"flight_duration\",\n      \"properties\": {\n        \"dtype\": \"number\",\n        \"std\": 1.496862916326865,\n        \"min\": 4.67,\n        \"max\": 9.5,\n        \"num_unique_values\": 21,\n        \"samples\": [\n          5.52,\n          5.0\n        ],\n        \"semantic_type\": \"\",\n        \"description\": \"\"\n      }\n    },\n    {\n      \"column\": \"booking_complete\",\n      \"properties\": {\n        \"dtype\": \"number\",\n        \"std\": 0,\n        \"min\": 0,\n        \"max\": 1,\n        \"num_unique_values\": 2,\n        \"samples\": [\n          1,\n          0\n        ],\n        \"semantic_type\": \"\",\n        \"description\": \"\"\n      }\n    }\n  ]\n}"
            }
          },
          "metadata": {},
          "execution_count": 3
        }
      ],
      "source": [
        "df = pd.read_csv(\"/content/customer_booking.csv\", encoding=\"ISO-8859-1\")\n",
        "df.head()"
      ]
    },
    {
      "cell_type": "markdown",
      "metadata": {
        "id": "Pxr9fOcllmLN"
      },
      "source": [
        "The `.head()` method allows us to view the first 5 rows in the dataset, this is useful for visual inspection of our columns"
      ]
    },
    {
      "cell_type": "code",
      "execution_count": 4,
      "metadata": {
        "colab": {
          "base_uri": "https://localhost:8080/"
        },
        "id": "gbi_3OVZlmLN",
        "outputId": "92d64a04-8b50-4a2e-98a5-17b91875f991"
      },
      "outputs": [
        {
          "output_type": "stream",
          "name": "stdout",
          "text": [
            "<class 'pandas.core.frame.DataFrame'>\n",
            "RangeIndex: 50000 entries, 0 to 49999\n",
            "Data columns (total 14 columns):\n",
            " #   Column                 Non-Null Count  Dtype  \n",
            "---  ------                 --------------  -----  \n",
            " 0   num_passengers         50000 non-null  int64  \n",
            " 1   sales_channel          50000 non-null  object \n",
            " 2   trip_type              50000 non-null  object \n",
            " 3   purchase_lead          50000 non-null  int64  \n",
            " 4   length_of_stay         50000 non-null  int64  \n",
            " 5   flight_hour            50000 non-null  int64  \n",
            " 6   flight_day             50000 non-null  object \n",
            " 7   route                  50000 non-null  object \n",
            " 8   booking_origin         50000 non-null  object \n",
            " 9   wants_extra_baggage    50000 non-null  int64  \n",
            " 10  wants_preferred_seat   50000 non-null  int64  \n",
            " 11  wants_in_flight_meals  50000 non-null  int64  \n",
            " 12  flight_duration        50000 non-null  float64\n",
            " 13  booking_complete       50000 non-null  int64  \n",
            "dtypes: float64(1), int64(8), object(5)\n",
            "memory usage: 5.3+ MB\n"
          ]
        }
      ],
      "source": [
        "df.info()"
      ]
    },
    {
      "cell_type": "markdown",
      "metadata": {
        "id": "JN3sD-5RlmLN"
      },
      "source": [
        "The `.info()` method gives us a data description, telling us the names of the columns, their data types and how many null values we have. Fortunately, we have no null values. It looks like some of these columns should be converted into different data types, e.g. flight_day.\n",
        "\n",
        "To provide more context, below is a more detailed data description, explaining exactly what each column means:\n",
        "\n",
        "- `num_passengers` = number of passengers travelling\n",
        "- `sales_channel` = sales channel booking was made on\n",
        "- `trip_type` = trip Type (Round Trip, One Way, Circle Trip)\n",
        "- `purchase_lead` = number of days between travel date and booking date\n",
        "- `length_of_stay` = number of days spent at destination\n",
        "- `flight_hour` = hour of flight departure\n",
        "- `flight_day` = day of week of flight departure\n",
        "- `route` = origin -> destination flight route\n",
        "- `booking_origin` = country from where booking was made\n",
        "- `wants_extra_baggage` = if the customer wanted extra baggage in the booking\n",
        "- `wants_preferred_seat` = if the customer wanted a preferred seat in the booking\n",
        "- `wants_in_flight_meals` = if the customer wanted in-flight meals in the booking\n",
        "- `flight_duration` = total duration of flight (in hours)\n",
        "- `booking_complete` = flag indicating if the customer completed the booking\n",
        "\n",
        "Before we compute any statistics on the data, lets do any necessary data conversion"
      ]
    },
    {
      "cell_type": "code",
      "execution_count": 5,
      "metadata": {
        "colab": {
          "base_uri": "https://localhost:8080/"
        },
        "id": "kksU54_YlmLN",
        "outputId": "cc8e9544-604e-4a10-f202-11c7733bddda"
      },
      "outputs": [
        {
          "output_type": "execute_result",
          "data": {
            "text/plain": [
              "array(['Sat', 'Wed', 'Thu', 'Mon', 'Sun', 'Tue', 'Fri'], dtype=object)"
            ]
          },
          "metadata": {},
          "execution_count": 5
        }
      ],
      "source": [
        "df[\"flight_day\"].unique()"
      ]
    },
    {
      "cell_type": "code",
      "execution_count": 6,
      "metadata": {
        "id": "8ZxKIMznlmLO"
      },
      "outputs": [],
      "source": [
        "mapping = {\n",
        "    \"Mon\": 1,\n",
        "    \"Tue\": 2,\n",
        "    \"Wed\": 3,\n",
        "    \"Thu\": 4,\n",
        "    \"Fri\": 5,\n",
        "    \"Sat\": 6,\n",
        "    \"Sun\": 7,\n",
        "}\n",
        "\n",
        "df[\"flight_day\"] = df[\"flight_day\"].map(mapping)"
      ]
    },
    {
      "cell_type": "code",
      "execution_count": 7,
      "metadata": {
        "colab": {
          "base_uri": "https://localhost:8080/"
        },
        "id": "yG7Bh8J9lmLO",
        "outputId": "b110a2ba-324a-418b-eb42-8bc024fb1bc4"
      },
      "outputs": [
        {
          "output_type": "execute_result",
          "data": {
            "text/plain": [
              "array([6, 3, 4, 1, 7, 2, 5])"
            ]
          },
          "metadata": {},
          "execution_count": 7
        }
      ],
      "source": [
        "df[\"flight_day\"].unique()"
      ]
    },
    {
      "cell_type": "code",
      "execution_count": 8,
      "metadata": {
        "colab": {
          "base_uri": "https://localhost:8080/",
          "height": 320
        },
        "id": "vMpillUglmLO",
        "outputId": "172c3788-4ca8-4be8-c7c7-f1df09b63adb"
      },
      "outputs": [
        {
          "output_type": "execute_result",
          "data": {
            "text/plain": [
              "       num_passengers  purchase_lead  length_of_stay  flight_hour  \\\n",
              "count    50000.000000   50000.000000     50000.00000  50000.00000   \n",
              "mean         1.591240      84.940480        23.04456      9.06634   \n",
              "std          1.020165      90.451378        33.88767      5.41266   \n",
              "min          1.000000       0.000000         0.00000      0.00000   \n",
              "25%          1.000000      21.000000         5.00000      5.00000   \n",
              "50%          1.000000      51.000000        17.00000      9.00000   \n",
              "75%          2.000000     115.000000        28.00000     13.00000   \n",
              "max          9.000000     867.000000       778.00000     23.00000   \n",
              "\n",
              "         flight_day  wants_extra_baggage  wants_preferred_seat  \\\n",
              "count  50000.000000         50000.000000          50000.000000   \n",
              "mean       3.814420             0.668780              0.296960   \n",
              "std        1.992792             0.470657              0.456923   \n",
              "min        1.000000             0.000000              0.000000   \n",
              "25%        2.000000             0.000000              0.000000   \n",
              "50%        4.000000             1.000000              0.000000   \n",
              "75%        5.000000             1.000000              1.000000   \n",
              "max        7.000000             1.000000              1.000000   \n",
              "\n",
              "       wants_in_flight_meals  flight_duration  booking_complete  \n",
              "count           50000.000000     50000.000000      50000.000000  \n",
              "mean                0.427140         7.277561          0.149560  \n",
              "std                 0.494668         1.496863          0.356643  \n",
              "min                 0.000000         4.670000          0.000000  \n",
              "25%                 0.000000         5.620000          0.000000  \n",
              "50%                 0.000000         7.570000          0.000000  \n",
              "75%                 1.000000         8.830000          0.000000  \n",
              "max                 1.000000         9.500000          1.000000  "
            ],
            "text/html": [
              "\n",
              "  <div id=\"df-92311959-7771-411d-8d13-7b435466dc78\" class=\"colab-df-container\">\n",
              "    <div>\n",
              "<style scoped>\n",
              "    .dataframe tbody tr th:only-of-type {\n",
              "        vertical-align: middle;\n",
              "    }\n",
              "\n",
              "    .dataframe tbody tr th {\n",
              "        vertical-align: top;\n",
              "    }\n",
              "\n",
              "    .dataframe thead th {\n",
              "        text-align: right;\n",
              "    }\n",
              "</style>\n",
              "<table border=\"1\" class=\"dataframe\">\n",
              "  <thead>\n",
              "    <tr style=\"text-align: right;\">\n",
              "      <th></th>\n",
              "      <th>num_passengers</th>\n",
              "      <th>purchase_lead</th>\n",
              "      <th>length_of_stay</th>\n",
              "      <th>flight_hour</th>\n",
              "      <th>flight_day</th>\n",
              "      <th>wants_extra_baggage</th>\n",
              "      <th>wants_preferred_seat</th>\n",
              "      <th>wants_in_flight_meals</th>\n",
              "      <th>flight_duration</th>\n",
              "      <th>booking_complete</th>\n",
              "    </tr>\n",
              "  </thead>\n",
              "  <tbody>\n",
              "    <tr>\n",
              "      <th>count</th>\n",
              "      <td>50000.000000</td>\n",
              "      <td>50000.000000</td>\n",
              "      <td>50000.00000</td>\n",
              "      <td>50000.00000</td>\n",
              "      <td>50000.000000</td>\n",
              "      <td>50000.000000</td>\n",
              "      <td>50000.000000</td>\n",
              "      <td>50000.000000</td>\n",
              "      <td>50000.000000</td>\n",
              "      <td>50000.000000</td>\n",
              "    </tr>\n",
              "    <tr>\n",
              "      <th>mean</th>\n",
              "      <td>1.591240</td>\n",
              "      <td>84.940480</td>\n",
              "      <td>23.04456</td>\n",
              "      <td>9.06634</td>\n",
              "      <td>3.814420</td>\n",
              "      <td>0.668780</td>\n",
              "      <td>0.296960</td>\n",
              "      <td>0.427140</td>\n",
              "      <td>7.277561</td>\n",
              "      <td>0.149560</td>\n",
              "    </tr>\n",
              "    <tr>\n",
              "      <th>std</th>\n",
              "      <td>1.020165</td>\n",
              "      <td>90.451378</td>\n",
              "      <td>33.88767</td>\n",
              "      <td>5.41266</td>\n",
              "      <td>1.992792</td>\n",
              "      <td>0.470657</td>\n",
              "      <td>0.456923</td>\n",
              "      <td>0.494668</td>\n",
              "      <td>1.496863</td>\n",
              "      <td>0.356643</td>\n",
              "    </tr>\n",
              "    <tr>\n",
              "      <th>min</th>\n",
              "      <td>1.000000</td>\n",
              "      <td>0.000000</td>\n",
              "      <td>0.00000</td>\n",
              "      <td>0.00000</td>\n",
              "      <td>1.000000</td>\n",
              "      <td>0.000000</td>\n",
              "      <td>0.000000</td>\n",
              "      <td>0.000000</td>\n",
              "      <td>4.670000</td>\n",
              "      <td>0.000000</td>\n",
              "    </tr>\n",
              "    <tr>\n",
              "      <th>25%</th>\n",
              "      <td>1.000000</td>\n",
              "      <td>21.000000</td>\n",
              "      <td>5.00000</td>\n",
              "      <td>5.00000</td>\n",
              "      <td>2.000000</td>\n",
              "      <td>0.000000</td>\n",
              "      <td>0.000000</td>\n",
              "      <td>0.000000</td>\n",
              "      <td>5.620000</td>\n",
              "      <td>0.000000</td>\n",
              "    </tr>\n",
              "    <tr>\n",
              "      <th>50%</th>\n",
              "      <td>1.000000</td>\n",
              "      <td>51.000000</td>\n",
              "      <td>17.00000</td>\n",
              "      <td>9.00000</td>\n",
              "      <td>4.000000</td>\n",
              "      <td>1.000000</td>\n",
              "      <td>0.000000</td>\n",
              "      <td>0.000000</td>\n",
              "      <td>7.570000</td>\n",
              "      <td>0.000000</td>\n",
              "    </tr>\n",
              "    <tr>\n",
              "      <th>75%</th>\n",
              "      <td>2.000000</td>\n",
              "      <td>115.000000</td>\n",
              "      <td>28.00000</td>\n",
              "      <td>13.00000</td>\n",
              "      <td>5.000000</td>\n",
              "      <td>1.000000</td>\n",
              "      <td>1.000000</td>\n",
              "      <td>1.000000</td>\n",
              "      <td>8.830000</td>\n",
              "      <td>0.000000</td>\n",
              "    </tr>\n",
              "    <tr>\n",
              "      <th>max</th>\n",
              "      <td>9.000000</td>\n",
              "      <td>867.000000</td>\n",
              "      <td>778.00000</td>\n",
              "      <td>23.00000</td>\n",
              "      <td>7.000000</td>\n",
              "      <td>1.000000</td>\n",
              "      <td>1.000000</td>\n",
              "      <td>1.000000</td>\n",
              "      <td>9.500000</td>\n",
              "      <td>1.000000</td>\n",
              "    </tr>\n",
              "  </tbody>\n",
              "</table>\n",
              "</div>\n",
              "    <div class=\"colab-df-buttons\">\n",
              "\n",
              "  <div class=\"colab-df-container\">\n",
              "    <button class=\"colab-df-convert\" onclick=\"convertToInteractive('df-92311959-7771-411d-8d13-7b435466dc78')\"\n",
              "            title=\"Convert this dataframe to an interactive table.\"\n",
              "            style=\"display:none;\">\n",
              "\n",
              "  <svg xmlns=\"http://www.w3.org/2000/svg\" height=\"24px\" viewBox=\"0 -960 960 960\">\n",
              "    <path d=\"M120-120v-720h720v720H120Zm60-500h600v-160H180v160Zm220 220h160v-160H400v160Zm0 220h160v-160H400v160ZM180-400h160v-160H180v160Zm440 0h160v-160H620v160ZM180-180h160v-160H180v160Zm440 0h160v-160H620v160Z\"/>\n",
              "  </svg>\n",
              "    </button>\n",
              "\n",
              "  <style>\n",
              "    .colab-df-container {\n",
              "      display:flex;\n",
              "      gap: 12px;\n",
              "    }\n",
              "\n",
              "    .colab-df-convert {\n",
              "      background-color: #E8F0FE;\n",
              "      border: none;\n",
              "      border-radius: 50%;\n",
              "      cursor: pointer;\n",
              "      display: none;\n",
              "      fill: #1967D2;\n",
              "      height: 32px;\n",
              "      padding: 0 0 0 0;\n",
              "      width: 32px;\n",
              "    }\n",
              "\n",
              "    .colab-df-convert:hover {\n",
              "      background-color: #E2EBFA;\n",
              "      box-shadow: 0px 1px 2px rgba(60, 64, 67, 0.3), 0px 1px 3px 1px rgba(60, 64, 67, 0.15);\n",
              "      fill: #174EA6;\n",
              "    }\n",
              "\n",
              "    .colab-df-buttons div {\n",
              "      margin-bottom: 4px;\n",
              "    }\n",
              "\n",
              "    [theme=dark] .colab-df-convert {\n",
              "      background-color: #3B4455;\n",
              "      fill: #D2E3FC;\n",
              "    }\n",
              "\n",
              "    [theme=dark] .colab-df-convert:hover {\n",
              "      background-color: #434B5C;\n",
              "      box-shadow: 0px 1px 3px 1px rgba(0, 0, 0, 0.15);\n",
              "      filter: drop-shadow(0px 1px 2px rgba(0, 0, 0, 0.3));\n",
              "      fill: #FFFFFF;\n",
              "    }\n",
              "  </style>\n",
              "\n",
              "    <script>\n",
              "      const buttonEl =\n",
              "        document.querySelector('#df-92311959-7771-411d-8d13-7b435466dc78 button.colab-df-convert');\n",
              "      buttonEl.style.display =\n",
              "        google.colab.kernel.accessAllowed ? 'block' : 'none';\n",
              "\n",
              "      async function convertToInteractive(key) {\n",
              "        const element = document.querySelector('#df-92311959-7771-411d-8d13-7b435466dc78');\n",
              "        const dataTable =\n",
              "          await google.colab.kernel.invokeFunction('convertToInteractive',\n",
              "                                                    [key], {});\n",
              "        if (!dataTable) return;\n",
              "\n",
              "        const docLinkHtml = 'Like what you see? Visit the ' +\n",
              "          '<a target=\"_blank\" href=https://colab.research.google.com/notebooks/data_table.ipynb>data table notebook</a>'\n",
              "          + ' to learn more about interactive tables.';\n",
              "        element.innerHTML = '';\n",
              "        dataTable['output_type'] = 'display_data';\n",
              "        await google.colab.output.renderOutput(dataTable, element);\n",
              "        const docLink = document.createElement('div');\n",
              "        docLink.innerHTML = docLinkHtml;\n",
              "        element.appendChild(docLink);\n",
              "      }\n",
              "    </script>\n",
              "  </div>\n",
              "\n",
              "\n",
              "    <div id=\"df-4e985c2c-1e9e-4190-a36b-a4da4982529a\">\n",
              "      <button class=\"colab-df-quickchart\" onclick=\"quickchart('df-4e985c2c-1e9e-4190-a36b-a4da4982529a')\"\n",
              "                title=\"Suggest charts\"\n",
              "                style=\"display:none;\">\n",
              "\n",
              "<svg xmlns=\"http://www.w3.org/2000/svg\" height=\"24px\"viewBox=\"0 0 24 24\"\n",
              "     width=\"24px\">\n",
              "    <g>\n",
              "        <path d=\"M19 3H5c-1.1 0-2 .9-2 2v14c0 1.1.9 2 2 2h14c1.1 0 2-.9 2-2V5c0-1.1-.9-2-2-2zM9 17H7v-7h2v7zm4 0h-2V7h2v10zm4 0h-2v-4h2v4z\"/>\n",
              "    </g>\n",
              "</svg>\n",
              "      </button>\n",
              "\n",
              "<style>\n",
              "  .colab-df-quickchart {\n",
              "      --bg-color: #E8F0FE;\n",
              "      --fill-color: #1967D2;\n",
              "      --hover-bg-color: #E2EBFA;\n",
              "      --hover-fill-color: #174EA6;\n",
              "      --disabled-fill-color: #AAA;\n",
              "      --disabled-bg-color: #DDD;\n",
              "  }\n",
              "\n",
              "  [theme=dark] .colab-df-quickchart {\n",
              "      --bg-color: #3B4455;\n",
              "      --fill-color: #D2E3FC;\n",
              "      --hover-bg-color: #434B5C;\n",
              "      --hover-fill-color: #FFFFFF;\n",
              "      --disabled-bg-color: #3B4455;\n",
              "      --disabled-fill-color: #666;\n",
              "  }\n",
              "\n",
              "  .colab-df-quickchart {\n",
              "    background-color: var(--bg-color);\n",
              "    border: none;\n",
              "    border-radius: 50%;\n",
              "    cursor: pointer;\n",
              "    display: none;\n",
              "    fill: var(--fill-color);\n",
              "    height: 32px;\n",
              "    padding: 0;\n",
              "    width: 32px;\n",
              "  }\n",
              "\n",
              "  .colab-df-quickchart:hover {\n",
              "    background-color: var(--hover-bg-color);\n",
              "    box-shadow: 0 1px 2px rgba(60, 64, 67, 0.3), 0 1px 3px 1px rgba(60, 64, 67, 0.15);\n",
              "    fill: var(--button-hover-fill-color);\n",
              "  }\n",
              "\n",
              "  .colab-df-quickchart-complete:disabled,\n",
              "  .colab-df-quickchart-complete:disabled:hover {\n",
              "    background-color: var(--disabled-bg-color);\n",
              "    fill: var(--disabled-fill-color);\n",
              "    box-shadow: none;\n",
              "  }\n",
              "\n",
              "  .colab-df-spinner {\n",
              "    border: 2px solid var(--fill-color);\n",
              "    border-color: transparent;\n",
              "    border-bottom-color: var(--fill-color);\n",
              "    animation:\n",
              "      spin 1s steps(1) infinite;\n",
              "  }\n",
              "\n",
              "  @keyframes spin {\n",
              "    0% {\n",
              "      border-color: transparent;\n",
              "      border-bottom-color: var(--fill-color);\n",
              "      border-left-color: var(--fill-color);\n",
              "    }\n",
              "    20% {\n",
              "      border-color: transparent;\n",
              "      border-left-color: var(--fill-color);\n",
              "      border-top-color: var(--fill-color);\n",
              "    }\n",
              "    30% {\n",
              "      border-color: transparent;\n",
              "      border-left-color: var(--fill-color);\n",
              "      border-top-color: var(--fill-color);\n",
              "      border-right-color: var(--fill-color);\n",
              "    }\n",
              "    40% {\n",
              "      border-color: transparent;\n",
              "      border-right-color: var(--fill-color);\n",
              "      border-top-color: var(--fill-color);\n",
              "    }\n",
              "    60% {\n",
              "      border-color: transparent;\n",
              "      border-right-color: var(--fill-color);\n",
              "    }\n",
              "    80% {\n",
              "      border-color: transparent;\n",
              "      border-right-color: var(--fill-color);\n",
              "      border-bottom-color: var(--fill-color);\n",
              "    }\n",
              "    90% {\n",
              "      border-color: transparent;\n",
              "      border-bottom-color: var(--fill-color);\n",
              "    }\n",
              "  }\n",
              "</style>\n",
              "\n",
              "      <script>\n",
              "        async function quickchart(key) {\n",
              "          const quickchartButtonEl =\n",
              "            document.querySelector('#' + key + ' button');\n",
              "          quickchartButtonEl.disabled = true;  // To prevent multiple clicks.\n",
              "          quickchartButtonEl.classList.add('colab-df-spinner');\n",
              "          try {\n",
              "            const charts = await google.colab.kernel.invokeFunction(\n",
              "                'suggestCharts', [key], {});\n",
              "          } catch (error) {\n",
              "            console.error('Error during call to suggestCharts:', error);\n",
              "          }\n",
              "          quickchartButtonEl.classList.remove('colab-df-spinner');\n",
              "          quickchartButtonEl.classList.add('colab-df-quickchart-complete');\n",
              "        }\n",
              "        (() => {\n",
              "          let quickchartButtonEl =\n",
              "            document.querySelector('#df-4e985c2c-1e9e-4190-a36b-a4da4982529a button');\n",
              "          quickchartButtonEl.style.display =\n",
              "            google.colab.kernel.accessAllowed ? 'block' : 'none';\n",
              "        })();\n",
              "      </script>\n",
              "    </div>\n",
              "\n",
              "    </div>\n",
              "  </div>\n"
            ],
            "application/vnd.google.colaboratory.intrinsic+json": {
              "type": "dataframe",
              "summary": "{\n  \"name\": \"df\",\n  \"rows\": 8,\n  \"fields\": [\n    {\n      \"column\": \"num_passengers\",\n      \"properties\": {\n        \"dtype\": \"number\",\n        \"std\": 17676.83073776561,\n        \"min\": 1.0,\n        \"max\": 50000.0,\n        \"num_unique_values\": 6,\n        \"samples\": [\n          50000.0,\n          1.59124,\n          9.0\n        ],\n        \"semantic_type\": \"\",\n        \"description\": \"\"\n      }\n    },\n    {\n      \"column\": \"purchase_lead\",\n      \"properties\": {\n        \"dtype\": \"number\",\n        \"std\": 17617.87658912578,\n        \"min\": 0.0,\n        \"max\": 50000.0,\n        \"num_unique_values\": 8,\n        \"samples\": [\n          84.94048,\n          51.0,\n          50000.0\n        ],\n        \"semantic_type\": \"\",\n        \"description\": \"\"\n      }\n    },\n    {\n      \"column\": \"length_of_stay\",\n      \"properties\": {\n        \"dtype\": \"number\",\n        \"std\": 17634.983577369898,\n        \"min\": 0.0,\n        \"max\": 50000.0,\n        \"num_unique_values\": 8,\n        \"samples\": [\n          23.04456,\n          17.0,\n          50000.0\n        ],\n        \"semantic_type\": \"\",\n        \"description\": \"\"\n      }\n    },\n    {\n      \"column\": \"flight_hour\",\n      \"properties\": {\n        \"dtype\": \"number\",\n        \"std\": 17674.41414792492,\n        \"min\": 0.0,\n        \"max\": 50000.0,\n        \"num_unique_values\": 8,\n        \"samples\": [\n          9.06634,\n          9.0,\n          50000.0\n        ],\n        \"semantic_type\": \"\",\n        \"description\": \"\"\n      }\n    },\n    {\n      \"column\": \"flight_day\",\n      \"properties\": {\n        \"dtype\": \"number\",\n        \"std\": 17676.416679728813,\n        \"min\": 1.0,\n        \"max\": 50000.0,\n        \"num_unique_values\": 8,\n        \"samples\": [\n          3.81442,\n          4.0,\n          50000.0\n        ],\n        \"semantic_type\": \"\",\n        \"description\": \"\"\n      }\n    },\n    {\n      \"column\": \"wants_extra_baggage\",\n      \"properties\": {\n        \"dtype\": \"number\",\n        \"std\": 17677.46046147062,\n        \"min\": 0.0,\n        \"max\": 50000.0,\n        \"num_unique_values\": 5,\n        \"samples\": [\n          0.66878,\n          1.0,\n          0.4706567134916728\n        ],\n        \"semantic_type\": \"\",\n        \"description\": \"\"\n      }\n    },\n    {\n      \"column\": \"wants_preferred_seat\",\n      \"properties\": {\n        \"dtype\": \"number\",\n        \"std\": 17677.530442454314,\n        \"min\": 0.0,\n        \"max\": 50000.0,\n        \"num_unique_values\": 5,\n        \"samples\": [\n          0.29696,\n          1.0,\n          0.4569233349027356\n        ],\n        \"semantic_type\": \"\",\n        \"description\": \"\"\n      }\n    },\n    {\n      \"column\": \"wants_in_flight_meals\",\n      \"properties\": {\n        \"dtype\": \"number\",\n        \"std\": 17677.521960959704,\n        \"min\": 0.0,\n        \"max\": 50000.0,\n        \"num_unique_values\": 5,\n        \"samples\": [\n          0.42714,\n          1.0,\n          0.4946678828529746\n        ],\n        \"semantic_type\": \"\",\n        \"description\": \"\"\n      }\n    },\n    {\n      \"column\": \"flight_duration\",\n      \"properties\": {\n        \"dtype\": \"number\",\n        \"std\": 17675.398666343368,\n        \"min\": 1.496862916326865,\n        \"max\": 50000.0,\n        \"num_unique_values\": 8,\n        \"samples\": [\n          7.2775608,\n          7.57,\n          50000.0\n        ],\n        \"semantic_type\": \"\",\n        \"description\": \"\"\n      }\n    },\n    {\n      \"column\": \"booking_complete\",\n      \"properties\": {\n        \"dtype\": \"number\",\n        \"std\": 17677.593458250896,\n        \"min\": 0.0,\n        \"max\": 50000.0,\n        \"num_unique_values\": 5,\n        \"samples\": [\n          0.14956,\n          1.0,\n          0.35664316941035484\n        ],\n        \"semantic_type\": \"\",\n        \"description\": \"\"\n      }\n    }\n  ]\n}"
            }
          },
          "metadata": {},
          "execution_count": 8
        }
      ],
      "source": [
        "df.describe()"
      ]
    },
    {
      "cell_type": "markdown",
      "metadata": {
        "id": "UZ0Y8O5vlmLO"
      },
      "source": [
        "The `.describe()` method gives us a summary of descriptive statistics over the entire dataset (only works for numeric columns). This gives us a quick overview of a few things such as the mean, min, max and overall distribution of each column.\n",
        "\n",
        "From this point, you should continue exploring the dataset with some visualisations and other metrics that you think may be useful. Then, you should prepare your dataset for predictive modelling. Finally, you should train your machine learning model, evaluate it with performance metrics and output visualisations for the contributing variables. All of this analysis should be summarised in your single slide."
      ]
    },
    {
      "cell_type": "markdown",
      "metadata": {
        "id": "_rRN6nxPsjMc"
      },
      "source": [
        "## EDA"
      ]
    },
    {
      "cell_type": "code",
      "execution_count": 9,
      "metadata": {
        "colab": {
          "base_uri": "https://localhost:8080/",
          "height": 523
        },
        "id": "aouhEYBxskd_",
        "outputId": "9655341b-9684-4c21-8e55-0dc5dbeea882"
      },
      "outputs": [
        {
          "output_type": "execute_result",
          "data": {
            "text/plain": [
              "num_passengers             int64\n",
              "sales_channel             object\n",
              "trip_type                 object\n",
              "purchase_lead              int64\n",
              "length_of_stay             int64\n",
              "flight_hour                int64\n",
              "flight_day                 int64\n",
              "route                     object\n",
              "booking_origin            object\n",
              "wants_extra_baggage        int64\n",
              "wants_preferred_seat       int64\n",
              "wants_in_flight_meals      int64\n",
              "flight_duration          float64\n",
              "booking_complete           int64\n",
              "dtype: object"
            ],
            "text/html": [
              "<div>\n",
              "<style scoped>\n",
              "    .dataframe tbody tr th:only-of-type {\n",
              "        vertical-align: middle;\n",
              "    }\n",
              "\n",
              "    .dataframe tbody tr th {\n",
              "        vertical-align: top;\n",
              "    }\n",
              "\n",
              "    .dataframe thead th {\n",
              "        text-align: right;\n",
              "    }\n",
              "</style>\n",
              "<table border=\"1\" class=\"dataframe\">\n",
              "  <thead>\n",
              "    <tr style=\"text-align: right;\">\n",
              "      <th></th>\n",
              "      <th>0</th>\n",
              "    </tr>\n",
              "  </thead>\n",
              "  <tbody>\n",
              "    <tr>\n",
              "      <th>num_passengers</th>\n",
              "      <td>int64</td>\n",
              "    </tr>\n",
              "    <tr>\n",
              "      <th>sales_channel</th>\n",
              "      <td>object</td>\n",
              "    </tr>\n",
              "    <tr>\n",
              "      <th>trip_type</th>\n",
              "      <td>object</td>\n",
              "    </tr>\n",
              "    <tr>\n",
              "      <th>purchase_lead</th>\n",
              "      <td>int64</td>\n",
              "    </tr>\n",
              "    <tr>\n",
              "      <th>length_of_stay</th>\n",
              "      <td>int64</td>\n",
              "    </tr>\n",
              "    <tr>\n",
              "      <th>flight_hour</th>\n",
              "      <td>int64</td>\n",
              "    </tr>\n",
              "    <tr>\n",
              "      <th>flight_day</th>\n",
              "      <td>int64</td>\n",
              "    </tr>\n",
              "    <tr>\n",
              "      <th>route</th>\n",
              "      <td>object</td>\n",
              "    </tr>\n",
              "    <tr>\n",
              "      <th>booking_origin</th>\n",
              "      <td>object</td>\n",
              "    </tr>\n",
              "    <tr>\n",
              "      <th>wants_extra_baggage</th>\n",
              "      <td>int64</td>\n",
              "    </tr>\n",
              "    <tr>\n",
              "      <th>wants_preferred_seat</th>\n",
              "      <td>int64</td>\n",
              "    </tr>\n",
              "    <tr>\n",
              "      <th>wants_in_flight_meals</th>\n",
              "      <td>int64</td>\n",
              "    </tr>\n",
              "    <tr>\n",
              "      <th>flight_duration</th>\n",
              "      <td>float64</td>\n",
              "    </tr>\n",
              "    <tr>\n",
              "      <th>booking_complete</th>\n",
              "      <td>int64</td>\n",
              "    </tr>\n",
              "  </tbody>\n",
              "</table>\n",
              "</div><br><label><b>dtype:</b> object</label>"
            ]
          },
          "metadata": {},
          "execution_count": 9
        }
      ],
      "source": [
        "# Checking for datatypes\n",
        "df.dtypes"
      ]
    },
    {
      "cell_type": "markdown",
      "metadata": {
        "id": "cVPWVqBmtV7b"
      },
      "source": [
        "There are 14 Variables at the dataset that include all information of british airways customer booking"
      ]
    },
    {
      "cell_type": "code",
      "execution_count": 10,
      "metadata": {
        "colab": {
          "base_uri": "https://localhost:8080/"
        },
        "id": "b-0cmQ0ItGZa",
        "outputId": "f042a632-569b-4afc-b5fb-035e82aa7b33"
      },
      "outputs": [
        {
          "output_type": "execute_result",
          "data": {
            "text/plain": [
              "(50000, 14)"
            ]
          },
          "metadata": {},
          "execution_count": 10
        }
      ],
      "source": [
        "df.shape"
      ]
    },
    {
      "cell_type": "code",
      "execution_count": 11,
      "metadata": {
        "colab": {
          "base_uri": "https://localhost:8080/",
          "height": 523
        },
        "id": "cffOL3WatIdF",
        "outputId": "3a388cc3-f7e7-4575-fb83-783fc4e2f32d"
      },
      "outputs": [
        {
          "output_type": "execute_result",
          "data": {
            "text/plain": [
              "num_passengers           0\n",
              "sales_channel            0\n",
              "trip_type                0\n",
              "purchase_lead            0\n",
              "length_of_stay           0\n",
              "flight_hour              0\n",
              "flight_day               0\n",
              "route                    0\n",
              "booking_origin           0\n",
              "wants_extra_baggage      0\n",
              "wants_preferred_seat     0\n",
              "wants_in_flight_meals    0\n",
              "flight_duration          0\n",
              "booking_complete         0\n",
              "dtype: int64"
            ],
            "text/html": [
              "<div>\n",
              "<style scoped>\n",
              "    .dataframe tbody tr th:only-of-type {\n",
              "        vertical-align: middle;\n",
              "    }\n",
              "\n",
              "    .dataframe tbody tr th {\n",
              "        vertical-align: top;\n",
              "    }\n",
              "\n",
              "    .dataframe thead th {\n",
              "        text-align: right;\n",
              "    }\n",
              "</style>\n",
              "<table border=\"1\" class=\"dataframe\">\n",
              "  <thead>\n",
              "    <tr style=\"text-align: right;\">\n",
              "      <th></th>\n",
              "      <th>0</th>\n",
              "    </tr>\n",
              "  </thead>\n",
              "  <tbody>\n",
              "    <tr>\n",
              "      <th>num_passengers</th>\n",
              "      <td>0</td>\n",
              "    </tr>\n",
              "    <tr>\n",
              "      <th>sales_channel</th>\n",
              "      <td>0</td>\n",
              "    </tr>\n",
              "    <tr>\n",
              "      <th>trip_type</th>\n",
              "      <td>0</td>\n",
              "    </tr>\n",
              "    <tr>\n",
              "      <th>purchase_lead</th>\n",
              "      <td>0</td>\n",
              "    </tr>\n",
              "    <tr>\n",
              "      <th>length_of_stay</th>\n",
              "      <td>0</td>\n",
              "    </tr>\n",
              "    <tr>\n",
              "      <th>flight_hour</th>\n",
              "      <td>0</td>\n",
              "    </tr>\n",
              "    <tr>\n",
              "      <th>flight_day</th>\n",
              "      <td>0</td>\n",
              "    </tr>\n",
              "    <tr>\n",
              "      <th>route</th>\n",
              "      <td>0</td>\n",
              "    </tr>\n",
              "    <tr>\n",
              "      <th>booking_origin</th>\n",
              "      <td>0</td>\n",
              "    </tr>\n",
              "    <tr>\n",
              "      <th>wants_extra_baggage</th>\n",
              "      <td>0</td>\n",
              "    </tr>\n",
              "    <tr>\n",
              "      <th>wants_preferred_seat</th>\n",
              "      <td>0</td>\n",
              "    </tr>\n",
              "    <tr>\n",
              "      <th>wants_in_flight_meals</th>\n",
              "      <td>0</td>\n",
              "    </tr>\n",
              "    <tr>\n",
              "      <th>flight_duration</th>\n",
              "      <td>0</td>\n",
              "    </tr>\n",
              "    <tr>\n",
              "      <th>booking_complete</th>\n",
              "      <td>0</td>\n",
              "    </tr>\n",
              "  </tbody>\n",
              "</table>\n",
              "</div><br><label><b>dtype:</b> int64</label>"
            ]
          },
          "metadata": {},
          "execution_count": 11
        }
      ],
      "source": [
        "# null values\n",
        "df.isnull().sum()"
      ]
    },
    {
      "cell_type": "markdown",
      "metadata": {
        "id": "mW-I81FVtQiN"
      },
      "source": [
        "There's no null values"
      ]
    },
    {
      "cell_type": "markdown",
      "metadata": {
        "id": "qKCBzqyMtvcd"
      },
      "source": [
        "to be added more insight, we will be check and count the customer booking complete status"
      ]
    },
    {
      "cell_type": "code",
      "execution_count": 12,
      "metadata": {
        "colab": {
          "base_uri": "https://localhost:8080/",
          "height": 178
        },
        "id": "7L4eXhy_tucK",
        "outputId": "2641964c-5a03-4e10-a80e-936767f9bd0d"
      },
      "outputs": [
        {
          "output_type": "execute_result",
          "data": {
            "text/plain": [
              "booking_complete\n",
              "0    42522\n",
              "1     7478\n",
              "Name: count, dtype: int64"
            ],
            "text/html": [
              "<div>\n",
              "<style scoped>\n",
              "    .dataframe tbody tr th:only-of-type {\n",
              "        vertical-align: middle;\n",
              "    }\n",
              "\n",
              "    .dataframe tbody tr th {\n",
              "        vertical-align: top;\n",
              "    }\n",
              "\n",
              "    .dataframe thead th {\n",
              "        text-align: right;\n",
              "    }\n",
              "</style>\n",
              "<table border=\"1\" class=\"dataframe\">\n",
              "  <thead>\n",
              "    <tr style=\"text-align: right;\">\n",
              "      <th></th>\n",
              "      <th>count</th>\n",
              "    </tr>\n",
              "    <tr>\n",
              "      <th>booking_complete</th>\n",
              "      <th></th>\n",
              "    </tr>\n",
              "  </thead>\n",
              "  <tbody>\n",
              "    <tr>\n",
              "      <th>0</th>\n",
              "      <td>42522</td>\n",
              "    </tr>\n",
              "    <tr>\n",
              "      <th>1</th>\n",
              "      <td>7478</td>\n",
              "    </tr>\n",
              "  </tbody>\n",
              "</table>\n",
              "</div><br><label><b>dtype:</b> int64</label>"
            ]
          },
          "metadata": {},
          "execution_count": 12
        }
      ],
      "source": [
        "df.booking_complete.value_counts()"
      ]
    },
    {
      "cell_type": "markdown",
      "metadata": {
        "id": "9qaIUT7esc8j"
      },
      "source": [
        "## Mutual Information"
      ]
    },
    {
      "cell_type": "code",
      "execution_count": 13,
      "metadata": {
        "id": "DoTKw_xUsbkw"
      },
      "outputs": [],
      "source": [
        "X = df.drop('booking_complete', axis=1)\n",
        "y = df['booking_complete']\n",
        "\n",
        "# Changing format from dtype to int dtype\n",
        "for colname in X.select_dtypes([\"object\"]):\n",
        "    X[colname], _ = X[colname].factorize()"
      ]
    },
    {
      "cell_type": "code",
      "execution_count": 14,
      "metadata": {
        "colab": {
          "base_uri": "https://localhost:8080/",
          "height": 491
        },
        "id": "bKE8VrLGulXO",
        "outputId": "b1ab4bbf-5899-4cdd-9690-802e0c48eece"
      },
      "outputs": [
        {
          "output_type": "execute_result",
          "data": {
            "text/plain": [
              "num_passengers             int64\n",
              "sales_channel              int64\n",
              "trip_type                  int64\n",
              "purchase_lead              int64\n",
              "length_of_stay             int64\n",
              "flight_hour                int64\n",
              "flight_day                 int64\n",
              "route                      int64\n",
              "booking_origin             int64\n",
              "wants_extra_baggage        int64\n",
              "wants_preferred_seat       int64\n",
              "wants_in_flight_meals      int64\n",
              "flight_duration          float64\n",
              "dtype: object"
            ],
            "text/html": [
              "<div>\n",
              "<style scoped>\n",
              "    .dataframe tbody tr th:only-of-type {\n",
              "        vertical-align: middle;\n",
              "    }\n",
              "\n",
              "    .dataframe tbody tr th {\n",
              "        vertical-align: top;\n",
              "    }\n",
              "\n",
              "    .dataframe thead th {\n",
              "        text-align: right;\n",
              "    }\n",
              "</style>\n",
              "<table border=\"1\" class=\"dataframe\">\n",
              "  <thead>\n",
              "    <tr style=\"text-align: right;\">\n",
              "      <th></th>\n",
              "      <th>0</th>\n",
              "    </tr>\n",
              "  </thead>\n",
              "  <tbody>\n",
              "    <tr>\n",
              "      <th>num_passengers</th>\n",
              "      <td>int64</td>\n",
              "    </tr>\n",
              "    <tr>\n",
              "      <th>sales_channel</th>\n",
              "      <td>int64</td>\n",
              "    </tr>\n",
              "    <tr>\n",
              "      <th>trip_type</th>\n",
              "      <td>int64</td>\n",
              "    </tr>\n",
              "    <tr>\n",
              "      <th>purchase_lead</th>\n",
              "      <td>int64</td>\n",
              "    </tr>\n",
              "    <tr>\n",
              "      <th>length_of_stay</th>\n",
              "      <td>int64</td>\n",
              "    </tr>\n",
              "    <tr>\n",
              "      <th>flight_hour</th>\n",
              "      <td>int64</td>\n",
              "    </tr>\n",
              "    <tr>\n",
              "      <th>flight_day</th>\n",
              "      <td>int64</td>\n",
              "    </tr>\n",
              "    <tr>\n",
              "      <th>route</th>\n",
              "      <td>int64</td>\n",
              "    </tr>\n",
              "    <tr>\n",
              "      <th>booking_origin</th>\n",
              "      <td>int64</td>\n",
              "    </tr>\n",
              "    <tr>\n",
              "      <th>wants_extra_baggage</th>\n",
              "      <td>int64</td>\n",
              "    </tr>\n",
              "    <tr>\n",
              "      <th>wants_preferred_seat</th>\n",
              "      <td>int64</td>\n",
              "    </tr>\n",
              "    <tr>\n",
              "      <th>wants_in_flight_meals</th>\n",
              "      <td>int64</td>\n",
              "    </tr>\n",
              "    <tr>\n",
              "      <th>flight_duration</th>\n",
              "      <td>float64</td>\n",
              "    </tr>\n",
              "  </tbody>\n",
              "</table>\n",
              "</div><br><label><b>dtype:</b> object</label>"
            ]
          },
          "metadata": {},
          "execution_count": 14
        }
      ],
      "source": [
        "X.dtypes"
      ]
    },
    {
      "cell_type": "code",
      "execution_count": 15,
      "metadata": {
        "colab": {
          "base_uri": "https://localhost:8080/",
          "height": 491
        },
        "id": "bChzESXBuoxs",
        "outputId": "c6df5f8a-8508-43d5-d9b0-f6ba54f74045"
      },
      "outputs": [
        {
          "output_type": "execute_result",
          "data": {
            "text/plain": [
              "route                    0.053265\n",
              "booking_origin           0.047056\n",
              "flight_duration          0.017121\n",
              "wants_extra_baggage      0.010717\n",
              "length_of_stay           0.007069\n",
              "trip_type                0.003586\n",
              "wants_preferred_seat     0.003370\n",
              "num_passengers           0.002958\n",
              "purchase_lead            0.002956\n",
              "wants_in_flight_meals    0.002425\n",
              "flight_day               0.001857\n",
              "flight_hour              0.001553\n",
              "sales_channel            0.001542\n",
              "Name: MI Scores, dtype: float64"
            ],
            "text/html": [
              "<div>\n",
              "<style scoped>\n",
              "    .dataframe tbody tr th:only-of-type {\n",
              "        vertical-align: middle;\n",
              "    }\n",
              "\n",
              "    .dataframe tbody tr th {\n",
              "        vertical-align: top;\n",
              "    }\n",
              "\n",
              "    .dataframe thead th {\n",
              "        text-align: right;\n",
              "    }\n",
              "</style>\n",
              "<table border=\"1\" class=\"dataframe\">\n",
              "  <thead>\n",
              "    <tr style=\"text-align: right;\">\n",
              "      <th></th>\n",
              "      <th>MI Scores</th>\n",
              "    </tr>\n",
              "  </thead>\n",
              "  <tbody>\n",
              "    <tr>\n",
              "      <th>route</th>\n",
              "      <td>0.053265</td>\n",
              "    </tr>\n",
              "    <tr>\n",
              "      <th>booking_origin</th>\n",
              "      <td>0.047056</td>\n",
              "    </tr>\n",
              "    <tr>\n",
              "      <th>flight_duration</th>\n",
              "      <td>0.017121</td>\n",
              "    </tr>\n",
              "    <tr>\n",
              "      <th>wants_extra_baggage</th>\n",
              "      <td>0.010717</td>\n",
              "    </tr>\n",
              "    <tr>\n",
              "      <th>length_of_stay</th>\n",
              "      <td>0.007069</td>\n",
              "    </tr>\n",
              "    <tr>\n",
              "      <th>trip_type</th>\n",
              "      <td>0.003586</td>\n",
              "    </tr>\n",
              "    <tr>\n",
              "      <th>wants_preferred_seat</th>\n",
              "      <td>0.003370</td>\n",
              "    </tr>\n",
              "    <tr>\n",
              "      <th>num_passengers</th>\n",
              "      <td>0.002958</td>\n",
              "    </tr>\n",
              "    <tr>\n",
              "      <th>purchase_lead</th>\n",
              "      <td>0.002956</td>\n",
              "    </tr>\n",
              "    <tr>\n",
              "      <th>wants_in_flight_meals</th>\n",
              "      <td>0.002425</td>\n",
              "    </tr>\n",
              "    <tr>\n",
              "      <th>flight_day</th>\n",
              "      <td>0.001857</td>\n",
              "    </tr>\n",
              "    <tr>\n",
              "      <th>flight_hour</th>\n",
              "      <td>0.001553</td>\n",
              "    </tr>\n",
              "    <tr>\n",
              "      <th>sales_channel</th>\n",
              "      <td>0.001542</td>\n",
              "    </tr>\n",
              "  </tbody>\n",
              "</table>\n",
              "</div><br><label><b>dtype:</b> float64</label>"
            ]
          },
          "metadata": {},
          "execution_count": 15
        }
      ],
      "source": [
        "from sklearn.feature_selection import mutual_info_classif\n",
        "\n",
        "mi_scores = mutual_info_classif(X, y)\n",
        "mi_scores = pd.Series(mi_scores, name=\"MI Scores\", index=X.columns)\n",
        "mi_scores = mi_scores.sort_values(ascending=False)\n",
        "\n",
        "mi_scores # show a few features with their MI scores"
      ]
    },
    {
      "cell_type": "markdown",
      "metadata": {
        "id": "g2uwGxZEuwgV"
      },
      "source": [
        "## Visualization of Mutual Information"
      ]
    },
    {
      "cell_type": "code",
      "execution_count": 16,
      "metadata": {
        "colab": {
          "base_uri": "https://localhost:8080/",
          "height": 468
        },
        "id": "wcAu83nFuwAd",
        "outputId": "aa8516cc-f218-437d-94f2-2b84ada4bbf1"
      },
      "outputs": [
        {
          "output_type": "display_data",
          "data": {
            "text/plain": [
              "<Figure size 800x500 with 1 Axes>"
            ],
            "image/png": "[encoded data removed]"
          },
          "metadata": {}
        }
      ],
      "source": [
        "import matplotlib.pyplot as plt\n",
        "def plot_mi_scores(scores):\n",
        "    scores = scores.sort_values(ascending=True)\n",
        "    width = np.arange(len(scores))\n",
        "    ticks = list(scores.index)\n",
        "    plt.barh(width, scores)\n",
        "    plt.yticks(width, ticks)\n",
        "    plt.title(\"Mutual Information Scores\")\n",
        "\n",
        "\n",
        "plt.figure(dpi=100, figsize=(8, 5))\n",
        "plot_mi_scores(mi_scores)"
      ]
    },
    {
      "cell_type": "markdown",
      "metadata": {
        "id": "eCzUTIz_u99J"
      },
      "source": [
        "We Can See that there are top 5 variable that influence the most customer behavior such as:\n",
        "\n",
        "1. route\n",
        "2. booking_origin\n",
        "3. flight_duration\n",
        "4. wants_extra_baggage\n",
        "5. length_of_stay"
      ]
    },
    {
      "cell_type": "markdown",
      "metadata": {
        "id": "ldhKYGo2SQ3U"
      },
      "source": [
        "## Preprocessing Data"
      ]
    },
    {
      "cell_type": "code",
      "execution_count": 17,
      "metadata": {
        "id": "baS6kvUXSQ3V"
      },
      "outputs": [],
      "source": [
        "# Preprocessing data\n",
        "from sklearn.model_selection import train_test_split\n",
        "from sklearn.preprocessing import StandardScaler"
      ]
    },
    {
      "cell_type": "code",
      "execution_count": 18,
      "metadata": {
        "id": "i4NXYxrlSQ3V"
      },
      "outputs": [],
      "source": [
        "# Convert categorical variables to numeric using one-hot encoding\n",
        "X = pd.get_dummies(df.drop('booking_complete', axis=1))\n",
        "y = df['booking_complete']\n",
        "\n",
        "# Split data\n",
        "X_train, X_test, y_train, y_test = train_test_split(X, y, test_size=0.2, random_state=0)\n",
        "\n",
        "# Scale numerical features\n",
        "scaler = StandardScaler()\n",
        "X_train = scaler.fit_transform(X_train)\n",
        "X_test = scaler.transform(X_test)"
      ]
    },
    {
      "cell_type": "markdown",
      "metadata": {
        "id": "urTUCwfQSQ3V"
      },
      "source": [
        "## Training Model with Random Forest"
      ]
    },
    {
      "cell_type": "code",
      "execution_count": 19,
      "metadata": {
        "id": "bSvQPnS8SQ3V",
        "outputId": "6cb383b2-f62c-4147-fd3c-0c4278ecd0e1",
        "colab": {
          "base_uri": "https://localhost:8080/"
        }
      },
      "outputs": [
        {
          "output_type": "stream",
          "name": "stdout",
          "text": [
            "Classification Report:\n",
            "              precision    recall  f1-score   support\n",
            "\n",
            "           0       0.87      0.98      0.92      8487\n",
            "           1       0.54      0.15      0.24      1513\n",
            "\n",
            "    accuracy                           0.85     10000\n",
            "   macro avg       0.70      0.56      0.58     10000\n",
            "weighted avg       0.82      0.85      0.81     10000\n",
            "\n"
          ]
        }
      ],
      "source": [
        "from sklearn.ensemble import RandomForestClassifier\n",
        "from sklearn.metrics import classification_report, confusion_matrix\n",
        "import seaborn as sns\n",
        "\n",
        "# Create and train model\n",
        "rf_model = RandomForestClassifier(n_estimators=100, random_state=0)\n",
        "rf_model.fit(X_train, y_train)\n",
        "\n",
        "# Make predictions\n",
        "y_pred = rf_model.predict(X_test)\n",
        "\n",
        "# Evaluate model\n",
        "print(\"Classification Report:\")\n",
        "print(classification_report(y_test, y_pred))\n"
      ]
    },
    {
      "cell_type": "markdown",
      "metadata": {
        "id": "uB7PmDKjSQ3V"
      },
      "source": [
        "## Visualizaton Confusion Matrix of Model"
      ]
    },
    {
      "cell_type": "code",
      "execution_count": 20,
      "metadata": {
        "id": "kVdfdox6SQ3V",
        "outputId": "f47f99df-6095-4847-b521-c0da21e0e325",
        "colab": {
          "base_uri": "https://localhost:8080/",
          "height": 564
        }
      },
      "outputs": [
        {
          "output_type": "display_data",
          "data": {
            "text/plain": [
              "<Figure size 800x600 with 2 Axes>"
            ],
            "image/png": "[encoded data removed]"
          },
          "metadata": {}
        }
      ],
      "source": [
        "# Plot confusion matrix\n",
        "plt.figure(figsize=(8,6))\n",
        "sns.heatmap(confusion_matrix(y_test, y_pred), annot=True, fmt='d', cmap='Blues')\n",
        "plt.title('Confusion Matrix')\n",
        "plt.ylabel('True Label')\n",
        "plt.xlabel('Predicted Label')\n",
        "plt.show()"
      ]
    },
    {
      "cell_type": "code",
      "execution_count": 21,
      "metadata": {
        "id": "6n5LBcJ-SQ3V",
        "outputId": "8c75aca2-dc0f-4438-c35d-2a9e11ddb87f",
        "colab": {
          "base_uri": "https://localhost:8080/",
          "height": 564
        }
      },
      "outputs": [
        {
          "output_type": "display_data",
          "data": {
            "text/plain": [
              "<Figure size 1000x600 with 1 Axes>"
            ],
            "image/png": "[encoded data removed]"
          },
          "metadata": {}
        }
      ],
      "source": [
        "# Plot feature importance\n",
        "feature_importance = pd.DataFrame({\n",
        "    'feature': X.columns,\n",
        "    'importance': rf_model.feature_importances_\n",
        "})\n",
        "feature_importance = feature_importance.sort_values('importance', ascending=False)\n",
        "\n",
        "plt.figure(figsize=(10,6))\n",
        "sns.barplot(x='importance', y='feature', data=feature_importance.head(10))\n",
        "plt.title('Top 10 Most Important Features')\n",
        "plt.show()"
      ]
    },
    {
      "cell_type": "markdown",
      "source": [
        "## Searching parameters with GridSearchCV"
      ],
      "metadata": {
        "id": "L0xhqg_ZWJgY"
      }
    },
    {
      "cell_type": "code",
      "execution_count": 22,
      "metadata": {
        "id": "CXFNRDx2SQ3V",
        "outputId": "a723baa4-b9a5-443a-cf47-ce5b7eebe1ff",
        "colab": {
          "base_uri": "https://localhost:8080/"
        }
      },
      "outputs": [
        {
          "output_type": "stream",
          "name": "stdout",
          "text": [
            "Best parameters: {'max_depth': 20, 'min_samples_split': 5, 'n_estimators': 100}\n",
            "Best cross-validation score: 0.8510500035637234\n"
          ]
        }
      ],
      "source": [
        "from sklearn.model_selection import GridSearchCV\n",
        "\n",
        "param_grid = {\n",
        "    'n_estimators': [50, 100],\n",
        "    'max_depth': [10, 20],\n",
        "    'min_samples_split': [5],\n",
        "}\n",
        "\n",
        "grid_search = GridSearchCV(RandomForestClassifier(random_state=0),\n",
        "                         param_grid=param_grid,\n",
        "                         cv=3,\n",
        "                         n_jobs=-1)\n",
        "grid_search.fit(X_train, y_train)\n",
        "\n",
        "print(\"Best parameters:\", grid_search.best_params_)\n",
        "print(\"Best cross-validation score:\", grid_search.best_score_)"
      ]
    },
    {
      "cell_type": "code",
      "source": [
        "# Create final model with best parameters\n",
        "final_model = RandomForestClassifier(\n",
        "    max_depth=20,\n",
        "    min_samples_split=5,\n",
        "    n_estimators=100,\n",
        "    random_state=42\n",
        ")\n",
        "\n",
        "# Train model with all training data\n",
        "final_model.fit(X_train, y_train)\n",
        "\n",
        "# Make predictions on test set\n",
        "y_pred = final_model.predict(X_test)"
      ],
      "metadata": {
        "id": "3UToy0SeVQ-B"
      },
      "execution_count": 23,
      "outputs": []
    },
    {
      "cell_type": "code",
      "source": [
        "from sklearn.metrics import accuracy_score, precision_recall_fscore_support, roc_auc_score, roc_curve\n",
        "import matplotlib.pyplot as plt\n",
        "import seaborn as sns\n",
        "\n",
        "# Calculate various metrics\n",
        "accuracy = accuracy_score(y_test, y_pred)\n",
        "precision, recall, f1, _ = precision_recall_fscore_support(y_test, y_pred, average='binary')\n",
        "roc_auc = roc_auc_score(y_test, final_model.predict_proba(X_test)[:, 1])\n",
        "\n",
        "print(f\"Accuracy: {accuracy:.4f}\")\n",
        "print(f\"Precision: {precision:.4f}\")\n",
        "print(f\"Recall: {recall:.4f}\")\n",
        "print(f\"F1-score: {f1:.4f}\")\n",
        "print(f\"ROC AUC: {roc_auc:.4f}\")"
      ],
      "metadata": {
        "id": "eLxeO-JgVXIU",
        "outputId": "a69c6c55-26ab-48a7-9567-f13116114ed1",
        "colab": {
          "base_uri": "https://localhost:8080/"
        }
      },
      "execution_count": 24,
      "outputs": [
        {
          "output_type": "stream",
          "name": "stdout",
          "text": [
            "Accuracy: 0.8485\n",
            "Precision: 0.2500\n",
            "Recall: 0.0007\n",
            "F1-score: 0.0013\n",
            "ROC AUC: 0.7794\n"
          ]
        }
      ]
    },
    {
      "cell_type": "code",
      "source": [
        "# Plot ROC curve\n",
        "fpr, tpr, _ = roc_curve(y_test, final_model.predict_proba(X_test)[:, 1])\n",
        "plt.figure(figsize=(8, 6))\n",
        "plt.plot(fpr, tpr, label=f'ROC curve (AUC = {roc_auc:.2f})')\n",
        "plt.plot([0, 1], [0, 1], 'k--')\n",
        "plt.xlabel('False Positive Rate')\n",
        "plt.ylabel('True Positive Rate')\n",
        "plt.title('ROC Curve')\n",
        "plt.legend()\n",
        "plt.show()"
      ],
      "metadata": {
        "id": "hKm5myGVVezU",
        "outputId": "b81145c4-4fc3-4ec7-d9ea-0e179c71b1fa",
        "colab": {
          "base_uri": "https://localhost:8080/",
          "height": 564
        }
      },
      "execution_count": 25,
      "outputs": [
        {
          "output_type": "display_data",
          "data": {
            "text/plain": [
              "<Figure size 800x600 with 1 Axes>"
            ],
            "image/png": "[encoded data removed]"
          },
          "metadata": {}
        }
      ]
    },
    {
      "cell_type": "code",
      "source": [
        "# Get feature importance\n",
        "importance = pd.DataFrame({\n",
        "    'feature': X.columns,\n",
        "    'importance': final_model.feature_importances_\n",
        "})\n",
        "importance = importance.sort_values('importance', ascending=False)\n",
        "\n",
        "# Plot top 15 features\n",
        "plt.figure(figsize=(12, 6))\n",
        "sns.barplot(data=importance.head(5), x='importance', y='feature')\n",
        "plt.title('Top 5 Most Important Features')\n",
        "plt.xlabel('Feature Importance')\n",
        "plt.xticks(rotation=45)\n",
        "plt.tight_layout()\n",
        "plt.show()"
      ],
      "metadata": {
        "id": "JiIli6RjVphM",
        "outputId": "d54d6986-6f46-4ab9-e600-8651e5211e93",
        "colab": {
          "base_uri": "https://localhost:8080/",
          "height": 607
        }
      },
      "execution_count": 28,
      "outputs": [
        {
          "output_type": "display_data",
          "data": {
            "text/plain": [
              "<Figure size 1200x600 with 1 Axes>"
            ],
            "image/png": "[encoded data removed]"
          },
          "metadata": {}
        }
      ]
    }
  ],
  "metadata": {
    "colab": {
      "provenance": []
    },
    "kernelspec": {
      "display_name": "base",
      "language": "python",
      "name": "python3"
    },
    "language_info": {
      "codemirror_mode": {
        "name": "ipython",
        "version": 3
      },
      "file_extension": ".py",
      "mimetype": "text/x-python",
      "name": "python",
      "nbconvert_exporter": "python",
      "pygments_lexer": "ipython3",
      "version": "3.12.7"
    },
    "orig_nbformat": 4
  },
  "nbformat": 4,
  "nbformat_minor": 0
}